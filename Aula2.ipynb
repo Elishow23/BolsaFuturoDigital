{
  "nbformat": 4,
  "nbformat_minor": 0,
  "metadata": {
    "colab": {
      "provenance": [],
      "authorship_tag": "ABX9TyPcdkuieg5N3YyJbhsjPr6l",
      "include_colab_link": true
    },
    "kernelspec": {
      "name": "python3",
      "display_name": "Python 3"
    },
    "language_info": {
      "name": "python"
    }
  },
  "cells": [
    {
      "cell_type": "markdown",
      "metadata": {
        "id": "view-in-github",
        "colab_type": "text"
      },
      "source": [
        "<a href=\"https://colab.research.google.com/github/Elishow23/BolsaFuturoDigital/blob/main/Aula2.ipynb\" target=\"_parent\"><img src=\"https://colab.research.google.com/assets/colab-badge.svg\" alt=\"Open In Colab\"/></a>"
      ]
    },
    {
      "cell_type": "code",
      "execution_count": null,
      "metadata": {
        "colab": {
          "base_uri": "https://localhost:8080/"
        },
        "id": "fbsSPy_d0bnE",
        "outputId": "7ff9119f-943a-4666-df6f-bacd09ea32b4"
      },
      "outputs": [
        {
          "output_type": "stream",
          "name": "stdout",
          "text": [
            "Digite a posicao 10\n",
            "Digite a posicao 21\n",
            "Digite a posicao 30\n",
            "Digite a posicao 41\n",
            "Digite a posicao 51\n",
            "Digite a posicao 60\n",
            "Digite a posicao 70\n",
            "Digite a posicao 81\n",
            "Número final é  154\n"
          ]
        }
      ],
      "source": [
        "p1 = int(input(\"Digite a posicao 1\"))\n",
        "p2 = int(input(\"Digite a posicao 2\"))\n",
        "p3 = int(input(\"Digite a posicao 3\"))\n",
        "p4 = int(input(\"Digite a posicao 4\"))\n",
        "p5 = int(input(\"Digite a posicao 5\"))\n",
        "p6 = int(input(\"Digite a posicao 6\"))\n",
        "p7 = int(input(\"Digite a posicao 7\"))\n",
        "p8 = int(input(\"Digite a posicao 8\"))\n",
        "\n",
        "f1 = p1 * (2**0)\n",
        "f2 = p2 * (2**1)\n",
        "f3 = p3 * (2**2)\n",
        "f4 = p4 * (2**3)\n",
        "f5 = p5 * (2**4)\n",
        "f6 = p6 * (2**5)\n",
        "f7 = p7 * (2**6)\n",
        "f8 = p8 * (2**7)\n",
        "\n",
        "Num = f1+f2+f3+f4+f5+f6+f7+f8\n",
        "\n",
        "print(\"Número final é \", Num)"
      ]
    },
    {
      "cell_type": "code",
      "source": [
        "a = 15\n",
        "b = 10\n",
        "\n",
        "if a > b:\n",
        "  print(\"A é maior que B\")\n",
        "else:\n",
        "  print(\"B é maior que A\")"
      ],
      "metadata": {
        "colab": {
          "base_uri": "https://localhost:8080/"
        },
        "id": "hr1pq9wLGjG1",
        "outputId": "6e4b5d32-4cd1-4137-c3bc-fe78320bba87"
      },
      "execution_count": null,
      "outputs": [
        {
          "output_type": "stream",
          "name": "stdout",
          "text": [
            "A é maior que B\n"
          ]
        }
      ]
    }
  ]
}