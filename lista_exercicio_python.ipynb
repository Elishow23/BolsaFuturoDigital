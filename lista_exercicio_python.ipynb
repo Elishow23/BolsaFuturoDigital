{
  "nbformat": 4,
  "nbformat_minor": 0,
  "metadata": {
    "colab": {
      "provenance": [],
      "authorship_tag": "ABX9TyMxde2S5X5qZaCjzUVO4G2Z",
      "include_colab_link": true
    },
    "kernelspec": {
      "name": "python3",
      "display_name": "Python 3"
    },
    "language_info": {
      "name": "python"
    }
  },
  "cells": [
    {
      "cell_type": "markdown",
      "metadata": {
        "id": "view-in-github",
        "colab_type": "text"
      },
      "source": [
        "<a href=\"https://colab.research.google.com/github/Elishow23/BolsaFuturoDigital/blob/main/lista_exercicio_python.ipynb\" target=\"_parent\"><img src=\"https://colab.research.google.com/assets/colab-badge.svg\" alt=\"Open In Colab\"/></a>"
      ]
    },
    {
      "cell_type": "code",
      "execution_count": null,
      "metadata": {
        "id": "1-11oYLFGpVt"
      },
      "outputs": [],
      "source": []
    },
    {
      "cell_type": "code",
      "source": [
        "#1- Peça ao usuário dois números e exiba a soma entre eles.\n",
        "#2- Solicite quatro notas de um aluno e calcule a média.\n",
        "#3- Peça um valor em metros e converta para centímetros (1 metro = 100\n",
        "#centímetros).\n",
        "#4- Peça o valor do lado de um quadrado e calcule a área (lado × lado).\n",
        "#5- Solicite o valor ganho por hora e o número de horas trabalhadas no mês.\n",
        "#Calcule o salário mensal.\n",
        "#6- Peça um número e exiba o seu antecessor e sucessor.\n",
        "#7- Peça um número ao usuário e mostre:\n",
        "# o dobro,\n",
        "# o triplo,\n",
        "# a raiz quadrada (use ** 0.5).\n",
        "#8- Peça a temperatura em graus Celsius e converta para Fahrenheit.\n",
        "#�� Fórmula: F = C * 1.8 + 32\n",
        "#9- Peça o preço de um produto e mostre o valor com 10% de desconto.\n",
        "#10- Peça o valor total de uma conta e o número de pessoas. Mostre quanto\n",
        "#cada pessoa deve pagar."
      ],
      "metadata": {
        "id": "AijrABvR6NPh"
      },
      "execution_count": 1,
      "outputs": []
    },
    {
      "cell_type": "code",
      "source": [
        "#1- Peça ao usuário dois números e exiba a soma entre eles.\n",
        "\n",
        "print(\"Digite um número: \")\n",
        "n1 = int(input())\n",
        "print(\"Digite outro número: \")\n",
        "n2 = int(input())\n",
        "soma = n1 + n2\n",
        "print(\"A soma dos números é:\", soma)"
      ],
      "metadata": {
        "id": "iFKn-oiU6jtj",
        "outputId": "fb4df922-5717-462a-c00d-ed5735f63cea",
        "colab": {
          "base_uri": "https://localhost:8080/"
        }
      },
      "execution_count": 2,
      "outputs": [
        {
          "output_type": "stream",
          "name": "stdout",
          "text": [
            "Digite um número: \n",
            "3\n",
            "Digite outro número: \n",
            "2\n",
            "A soma dos números é: 5\n"
          ]
        }
      ]
    },
    {
      "cell_type": "code",
      "source": [
        "#2- Solicite quatro notas de um aluno e calcule a média.\n",
        "\n",
        "n1 = float(input(\"Digite a primeira nota:\"))\n",
        "n2 = float(input(\"Digite a segunda nota:\"))\n",
        "n3 = float(input(\"Digite a terceira nota:\"))\n",
        "n4 = float(input(\"Digite a quarta nota:\"))\n",
        "\n",
        "media = (n1 + n2 + n3 + n4)/4\n",
        "\n",
        "print(\"A média do aluno é:\", media)"
      ],
      "metadata": {
        "id": "RFiIi5rn7Cm1",
        "outputId": "b3a6c67e-a6df-4a31-b878-0e750c00ec91",
        "colab": {
          "base_uri": "https://localhost:8080/"
        }
      },
      "execution_count": 3,
      "outputs": [
        {
          "output_type": "stream",
          "name": "stdout",
          "text": [
            "Digite a primeira nota:6.7\n",
            "Digite a segunda nota:7.9\n",
            "Digite a terceira nota:5.5\n",
            "Digite a quarta nota:4.3\n",
            "A média do aluno é: 6.1000000000000005\n"
          ]
        }
      ]
    },
    {
      "cell_type": "code",
      "source": [
        "#3- Peça um valor em metros e converta para centímetros (1 metro = 100 centímetros).\n",
        "\n",
        "vlr_m = float(input(\"Digite o valor em metros:\"))\n",
        "vlr_cm = vlr_m * 100\n",
        "\n",
        "print(vlr_m, \"metro é equivalente a \", vlr_cm, \"centímetros.\")"
      ],
      "metadata": {
        "id": "xXOR0Qo09A4E",
        "colab": {
          "base_uri": "https://localhost:8080/"
        },
        "outputId": "c03c5749-76d5-4817-d8a0-b2d04462d75c"
      },
      "execution_count": 6,
      "outputs": [
        {
          "output_type": "stream",
          "name": "stdout",
          "text": [
            "Digite o valor em metros:4.9\n",
            "4.9 metro é equivalente a  490.00000000000006 centímetros.\n"
          ]
        }
      ]
    },
    {
      "cell_type": "code",
      "source": [
        "#4- Peça o valor do lado de um quadrado e calcule a área (lado × lado).\n",
        "lado = float(input(\"Digite o valor do lado do quadrado:\"))\n",
        "area = lado * lado\n",
        "\n",
        "print(\"A área do quadrado é:\", area)"
      ],
      "metadata": {
        "colab": {
          "base_uri": "https://localhost:8080/"
        },
        "id": "7uHdqDmAJte5",
        "outputId": "7e2424a9-c8dc-49fc-d644-992a4f4e17ce"
      },
      "execution_count": 7,
      "outputs": [
        {
          "output_type": "stream",
          "name": "stdout",
          "text": [
            "Digite o valor do lado do quadrado:5\n",
            "A área do quadrado é: 25.0\n"
          ]
        }
      ]
    },
    {
      "cell_type": "code",
      "source": [],
      "metadata": {
        "id": "EI0p3qOXKF3J"
      },
      "execution_count": null,
      "outputs": []
    },
    {
      "cell_type": "code",
      "source": [
        "#5- Solicite o valor ganho por hora e o número de horas trabalhadas no mês. Calcule o salário mensal.\n",
        "\n",
        "valor_hora = float(input(\"informe o valor ganho por hora:\"))\n",
        "horas_trabalhadas = float(input(\"informe o número de horas trabalhadas no mês:\"))\n",
        "\n",
        "salario_mensal = valor_hora * horas_trabalhadas\n",
        "\n",
        "print(\"O salário mensal é:\", salario_mensal)\n",
        "#"
      ],
      "metadata": {
        "colab": {
          "base_uri": "https://localhost:8080/"
        },
        "id": "W5vTWvbjKKtX",
        "outputId": "3717650d-bf55-4e2d-b4ae-49565bf62e73"
      },
      "execution_count": 9,
      "outputs": [
        {
          "output_type": "stream",
          "name": "stdout",
          "text": [
            "informe o valor ganho por hora:6.5\n",
            "informe o número de horas trabalhadas no mês:192\n",
            "O salário mensal é: 1248.0\n"
          ]
        }
      ]
    },
    {
      "cell_type": "code",
      "source": [
        "#7- Peça um número ao usuário e mostre:\n",
        "# o dobro,\n",
        "# o triplo,\n",
        "# a raiz quadrada (use ** 0.5).\n",
        "\n",
        "n = int(input(\"Informe um número: \"))\n",
        "\n",
        "dobro = n * 2\n",
        "triplo = n * 3\n",
        "raiz = n ** 0.5\n",
        "\n",
        "print(\"O dobro é: \", dobro)\n",
        "print(\"O triplo é: \", triplo)\n",
        "print(\"A raiz é: \", raiz)"
      ],
      "metadata": {
        "colab": {
          "base_uri": "https://localhost:8080/"
        },
        "id": "NL4Q2wktK3ib",
        "outputId": "ec37f4ce-1304-4cfd-8d1c-e89eca16156a"
      },
      "execution_count": 11,
      "outputs": [
        {
          "output_type": "stream",
          "name": "stdout",
          "text": [
            "Informe um número: 100\n",
            "O dobro é:  200\n",
            "O triplo é:  300\n",
            "A raiz é:  10.0\n"
          ]
        }
      ]
    },
    {
      "cell_type": "code",
      "source": [
        "#8- Peça a temperatura em graus Celsius e converta para Fahrenheit.\n",
        "#�� Fórmula: F = C * 1.8 + 32\n",
        "\n",
        "t = float(input(\"Digite a temperatura em graus celsius: \"))\n",
        "fah = t * 1.8 + 32\n",
        "print(t, \"graus em Fahrenheit é: \", fah)"
      ],
      "metadata": {
        "colab": {
          "base_uri": "https://localhost:8080/"
        },
        "id": "lrw8kz-QLlov",
        "outputId": "8de87e2f-1745-4eec-f354-0447ced35a66"
      },
      "execution_count": 13,
      "outputs": [
        {
          "output_type": "stream",
          "name": "stdout",
          "text": [
            "Digite a temperatura em graus celsius: 23\n",
            "23.0 graus em Fahrenheit é:  73.4\n"
          ]
        }
      ]
    },
    {
      "cell_type": "code",
      "source": [
        "#9- Peça o preço de um produto e mostre o valor com 10% de desconto.\n",
        "\n",
        "p = float(input(\"Digite o preço do produto:\"))\n",
        "desconto = p - ((10/100)*p)\n",
        "print(\"Parabéns, você ganhou um desconto de 10%. Valor com desconto: \", desconto)"
      ],
      "metadata": {
        "colab": {
          "base_uri": "https://localhost:8080/"
        },
        "id": "dw3xeSBDMTXB",
        "outputId": "98ea15a4-1075-4389-fdfa-2841f09a36be"
      },
      "execution_count": 16,
      "outputs": [
        {
          "output_type": "stream",
          "name": "stdout",
          "text": [
            "Digite o preço do produto:23\n",
            "Parabéns, você ganhou um desconto de 10%. Valor com desconto:  20.7\n"
          ]
        }
      ]
    },
    {
      "cell_type": "code",
      "source": [
        "#10- Peça o valor total de uma conta e o número de pessoas. Mostre quanto cada pessoa deve pagar.\n",
        "\n",
        "conta = float(input(\"Digite o valor total da conta:\"))\n",
        "pessoas = int(input(\"Informe a quantidade total de pessoas\"))\n",
        "cada_pessoa = conta / pessoas\n",
        "print(\"Cada pessoa irá pagar \", cada_pessoa)"
      ],
      "metadata": {
        "colab": {
          "base_uri": "https://localhost:8080/"
        },
        "id": "SMBB0UedNCrD",
        "outputId": "0ee57228-3469-4327-ed4f-203af8a2ac29"
      },
      "execution_count": 17,
      "outputs": [
        {
          "output_type": "stream",
          "name": "stdout",
          "text": [
            "Digite o valor total da conta:500\n",
            "Informe a quantidade total de pessoas5\n",
            "Cada pessoa irá pagar  100.0\n"
          ]
        }
      ]
    }
  ]
}