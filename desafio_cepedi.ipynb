{
  "nbformat": 4,
  "nbformat_minor": 0,
  "metadata": {
    "colab": {
      "provenance": [],
      "authorship_tag": "ABX9TyMpMO89Z16IV1pCybA4hoRj",
      "include_colab_link": true
    },
    "kernelspec": {
      "name": "python3",
      "display_name": "Python 3"
    },
    "language_info": {
      "name": "python"
    }
  },
  "cells": [
    {
      "cell_type": "markdown",
      "metadata": {
        "id": "view-in-github",
        "colab_type": "text"
      },
      "source": [
        "<a href=\"https://colab.research.google.com/github/Elishow23/BolsaFuturoDigital/blob/main/desafio_cepedi.ipynb\" target=\"_parent\"><img src=\"https://colab.research.google.com/assets/colab-badge.svg\" alt=\"Open In Colab\"/></a>"
      ]
    },
    {
      "cell_type": "code",
      "execution_count": 44,
      "metadata": {
        "colab": {
          "base_uri": "https://localhost:8080/"
        },
        "id": "VK2eB3GCtado",
        "outputId": "eca13d08-bc8d-4080-8967-8baef2bfb42e"
      },
      "outputs": [
        {
          "output_type": "stream",
          "name": "stdout",
          "text": [
            "1\n",
            "4\n",
            "7\n",
            "10\n",
            "13\n",
            "27\n"
          ]
        }
      ],
      "source": [
        "e1 = -8\n",
        "e2 = -7\n",
        "e3 = -3\n",
        "e4 = 4\n",
        "e5 = 14\n",
        "\n",
        "r1 = e2 - e1\n",
        "r2 = e3 - e2\n",
        "r3 = e4 - e3\n",
        "r4 = e5 - e4\n",
        "r5 = e6 - e5\n",
        "\n",
        "print(r1)\n",
        "print(r2)\n",
        "print(r3)\n",
        "print(r4)\n",
        "\n",
        "rq = r2 - r1\n",
        "\n",
        "e6 = e5 + r4 + rq\n",
        "\n",
        "print(e6)\n",
        "\n"
      ]
    }
  ]
}