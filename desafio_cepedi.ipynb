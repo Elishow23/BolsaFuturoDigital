{
  "nbformat": 4,
  "nbformat_minor": 0,
  "metadata": {
    "colab": {
      "provenance": [],
      "authorship_tag": "ABX9TyPMH0R1BtP8IksOjQ4nKk0w",
      "include_colab_link": true
    },
    "kernelspec": {
      "name": "python3",
      "display_name": "Python 3"
    },
    "language_info": {
      "name": "python"
    }
  },
  "cells": [
    {
      "cell_type": "markdown",
      "metadata": {
        "id": "view-in-github",
        "colab_type": "text"
      },
      "source": [
        "<a href=\"https://colab.research.google.com/github/Elishow23/BolsaFuturoDigital/blob/main/desafio_cepedi.ipynb\" target=\"_parent\"><img src=\"https://colab.research.google.com/assets/colab-badge.svg\" alt=\"Open In Colab\"/></a>"
      ]
    },
    {
      "cell_type": "code",
      "execution_count": 2,
      "metadata": {
        "colab": {
          "base_uri": "https://localhost:8080/"
        },
        "id": "VK2eB3GCtado",
        "outputId": "2eceeb03-c89b-495a-8122-5241297bb12b"
      },
      "outputs": [
        {
          "output_type": "stream",
          "name": "stdout",
          "text": [
            "O quinto termo é:  27\n"
          ]
        }
      ],
      "source": [
        "e1 = -8\n",
        "e2 = -7\n",
        "e3 = -3\n",
        "e4 = 4\n",
        "e5 = 14\n",
        "\n",
        "r1 = e2 - e1\n",
        "r2 = e3 - e2\n",
        "r3 = e4 - e3\n",
        "r4 = e5 - e4\n",
        "\n",
        "rq = r2 - r1\n",
        "\n",
        "e6 = e5 + r4 + rq\n",
        "\n",
        "print(\"O próximo termo é :\", e6)\n",
        "\n"
      ]
    },
    {
      "cell_type": "code",
      "source": [
        "pas = [-8, -7, -3, 4, 14]\n",
        "razao_po = []\n",
        "razao_so = []\n",
        "\n",
        "for i in range(len(pas) - 1):\n",
        "  r_po = pas[i + 1] - pas[i]\n",
        "  razao_po.append(r_po)\n",
        "  for x in range(len(razao_po) - 1):\n",
        "    r_so = razao_po[x+1] - razao_po[x]\n",
        "    razao_so.append(r_so)\n",
        "\n",
        "ultim_termo = razao_po[-1] + razao_so[-1] + pas[-1]\n",
        "\n",
        "#print(razao_po)\n",
        "#print(razao_so)\n",
        "\n",
        "print(\"O próximo termo da progressão é:\", ultim_termo)"
      ],
      "metadata": {
        "id": "zxcGUfR7rIYp",
        "outputId": "3b5456a1-0586-4973-9f2e-411b43e912bf",
        "colab": {
          "base_uri": "https://localhost:8080/"
        }
      },
      "execution_count": 21,
      "outputs": [
        {
          "output_type": "stream",
          "name": "stdout",
          "text": [
            "[1, 4, 7, 10]\n",
            "[3, 3, 3, 3, 3, 3]\n",
            "O próximo termo da progressão é: 27\n"
          ]
        }
      ]
    }
  ]
}