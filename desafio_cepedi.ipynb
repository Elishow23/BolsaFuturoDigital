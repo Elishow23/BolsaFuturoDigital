{
  "nbformat": 4,
  "nbformat_minor": 0,
  "metadata": {
    "colab": {
      "provenance": [],
      "authorship_tag": "ABX9TyOAG2M90wLolcnYpyw4H+ad",
      "include_colab_link": true
    },
    "kernelspec": {
      "name": "python3",
      "display_name": "Python 3"
    },
    "language_info": {
      "name": "python"
    }
  },
  "cells": [
    {
      "cell_type": "markdown",
      "metadata": {
        "id": "view-in-github",
        "colab_type": "text"
      },
      "source": [
        "<a href=\"https://colab.research.google.com/github/Elishow23/BolsaFuturoDigital/blob/main/desafio_cepedi.ipynb\" target=\"_parent\"><img src=\"https://colab.research.google.com/assets/colab-badge.svg\" alt=\"Open In Colab\"/></a>"
      ]
    },
    {
      "cell_type": "code",
      "execution_count": 2,
      "metadata": {
        "colab": {
          "base_uri": "https://localhost:8080/"
        },
        "id": "VK2eB3GCtado",
        "outputId": "2eceeb03-c89b-495a-8122-5241297bb12b"
      },
      "outputs": [
        {
          "output_type": "stream",
          "name": "stdout",
          "text": [
            "O quinto termo é:  27\n"
          ]
        }
      ],
      "source": [
        "e1 = -8\n",
        "e2 = -7\n",
        "e3 = -3\n",
        "e4 = 4\n",
        "e5 = 14\n",
        "\n",
        "r1 = e2 - e1\n",
        "r2 = e3 - e2\n",
        "r3 = e4 - e3\n",
        "r4 = e5 - e4\n",
        "\n",
        "rq = r2 - r1\n",
        "\n",
        "e6 = e5 + r4 + rq\n",
        "\n",
        "print(\"O próximo termo é :\", e6)\n",
        "\n"
      ]
    },
    {
      "cell_type": "code",
      "source": [
        "pas = [-8, -7, -3, 4, 14]\n",
        "razao_po = []\n",
        "razao_so = []\n",
        "\n",
        "for i in range(len(pas) - 1):\n",
        "  r_po = pas[i + 1] - pas[i]\n",
        "  razao_po.append(r_po)\n",
        "  for x in range(len(razao_po) - 1):\n",
        "    r_so = razao_po[x+1] - razao_po[x]\n",
        "    razao_so.append(r_so)\n",
        "\n",
        "ultim_termo = razao_po[-1] + razao_so[-1] + pas[-1]\n",
        "\n",
        "#print(razao_po)\n",
        "#print(razao_so)\n",
        "\n",
        "print(\"O próximo termo da progressão é:\", ultim_termo)"
      ],
      "metadata": {
        "colab": {
          "base_uri": "https://localhost:8080/"
        },
        "id": "zxcGUfR7rIYp",
        "outputId": "3f19764e-0f0d-41eb-c077-ee9789dc2dda"
      },
      "execution_count": 22,
      "outputs": [
        {
          "output_type": "stream",
          "name": "stdout",
          "text": [
            "O próximo termo da progressão é: 27\n"
          ]
        }
      ]
    },
    {
      "cell_type": "code",
      "source": [
        "#1- Peça ao usuário dois números e exiba a soma entre eles.\n",
        "#2- Solicite quatro notas de um aluno e calcule a média.\n",
        "#3- Peça um valor em metros e converta para centímetros (1 metro = 100\n",
        "#centímetros).\n",
        "#4- Peça o valor do lado de um quadrado e calcule a área (lado × lado).\n",
        "#5- Solicite o valor ganho por hora e o número de horas trabalhadas no mês.\n",
        "#Calcule o salário mensal.\n",
        "#6- Peça um número e exiba o seu antecessor e sucessor.\n",
        "#7- Peça um número ao usuário e mostre:\n",
        "# o dobro,\n",
        "# o triplo,\n",
        "# a raiz quadrada (use ** 0.5).\n",
        "#8- Peça a temperatura em graus Celsius e converta para Fahrenheit.\n",
        "#�� Fórmula: F = C * 1.8 + 32\n",
        "#9- Peça o preço de um produto e mostre o valor com 10% de desconto.\n",
        "#10- Peça o valor total de uma conta e o número de pessoas. Mostre quanto\n",
        "#cada pessoa deve pagar."
      ],
      "metadata": {
        "id": "AijrABvR6NPh"
      },
      "execution_count": null,
      "outputs": []
    },
    {
      "cell_type": "code",
      "source": [
        "#1- Peça ao usuário dois números e exiba a soma entre eles.\n",
        "\n",
        "print(\"Digite um número: \")\n",
        "n1 = int(input())\n",
        "print(\"Digite outro número: \")\n",
        "n2 = int(input())\n",
        "soma = n1 + n2\n",
        "print(\"A soma dos números é:\", soma)"
      ],
      "metadata": {
        "id": "iFKn-oiU6jtj",
        "outputId": "e3beb636-4684-47ae-f2ab-bc9fb37ec5e1",
        "colab": {
          "base_uri": "https://localhost:8080/"
        }
      },
      "execution_count": 28,
      "outputs": [
        {
          "output_type": "stream",
          "name": "stdout",
          "text": [
            "Digite um número: \n",
            "3\n",
            "Digite outro número: \n",
            "3\n",
            "A soma dos números é: 6\n"
          ]
        }
      ]
    },
    {
      "cell_type": "code",
      "source": [
        "#2- Solicite quatro notas de um aluno e calcule a média.\n",
        "\n",
        "n1 = float(input(\"Digite a primeira nota:\"))\n",
        "n2 = float(input(\"Digite a segunda nota:\"))\n",
        "n3 = float(input(\"Digite a terceira nota:\"))\n",
        "n4 = float(input(\"Digite a quarta nota:\"))\n",
        "\n",
        "media = (n1 + n2 + n3 + n4)/4\n",
        "\n",
        "print(\"A média do aluno é:\", media)"
      ],
      "metadata": {
        "id": "RFiIi5rn7Cm1",
        "outputId": "9d227556-adcb-4241-c670-1a01c9edbcc0",
        "colab": {
          "base_uri": "https://localhost:8080/"
        }
      },
      "execution_count": 30,
      "outputs": [
        {
          "output_type": "stream",
          "name": "stdout",
          "text": [
            "Digite a primeira nota:5.5\n",
            "Digite a segunda nota:6.9\n",
            "Digite a terceira nota:3.2\n",
            "Digite a quarta nota:8.9\n",
            "A média do aluno é: 6.125\n"
          ]
        }
      ]
    },
    {
      "cell_type": "code",
      "source": [
        "#3- Peça um valor em metros e converta para centímetros (1 metro = 100 centímetros).\n",
        "\n"
      ],
      "metadata": {
        "id": "xXOR0Qo09A4E"
      },
      "execution_count": null,
      "outputs": []
    }
  ]
}